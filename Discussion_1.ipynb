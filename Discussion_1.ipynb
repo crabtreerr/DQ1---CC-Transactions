{
 "cells": [
  {
   "cell_type": "code",
   "execution_count": 1,
   "metadata": {},
   "outputs": [
    {
     "name": "stdout",
     "output_type": "stream",
     "text": [
      " Max Number of Printed Rows:\n",
      " 60\n"
     ]
    }
   ],
   "source": [
    "import pandas as pd\n",
    "from matplotlib import pyplot as plt\n",
    "import numpy as np\n",
    "import seaborn as sns\n",
    "print(\" Max Number of Printed Rows:\\n\",pd.options.display.max_rows) \n",
    "pd.options.display.max_rows = 20"
   ]
  },
  {
   "cell_type": "markdown",
   "metadata": {},
   "source": []
  },
  {
   "cell_type": "code",
   "execution_count": 2,
   "metadata": {},
   "outputs": [
    {
     "name": "stdout",
     "output_type": "stream",
     "text": [
      "Raw CSV Data:\n",
      "        Customer ID       Name    Surname Gender   Birthdate  \\\n",
      "0           752858       Sean  Rodriguez      F  20-10-2002   \n",
      "1            26381   Michelle     Phelps    NaN  24-10-1985   \n",
      "2           305449      Jacob   Williams      M  25-10-1981   \n",
      "3           988259     Nathan     Snyder      M  26-10-1977   \n",
      "4           764762    Crystal      Knapp      F  02-11-1951   \n",
      "...            ...        ...        ...    ...         ...   \n",
      "49995       891845  Christine      Leach      F  21-10-1997   \n",
      "49996       800560       Anna      Allen      F  21-10-1999   \n",
      "49997       133285     Nicole   Franklin      M  26-10-1979   \n",
      "49998       616122      Maria     Keller      M  25-10-1981   \n",
      "49999       832184      Billy     Walker      F  31-10-1958   \n",
      "\n",
      "       Transaction Amount        Date                 Merchant Name  \\\n",
      "0                   35.47  03-04-2023                 Smith-Russell   \n",
      "1                 2552.72  17-07-2023        Peck, Spence and Young   \n",
      "2                  115.97  20-09-2023                    Steele Inc   \n",
      "3                   11.31  11-01-2023    Wilson, Wilson and Russell   \n",
      "4                   62.21  13-06-2023                 Palmer-Hinton   \n",
      "...                   ...         ...                           ...   \n",
      "49995              108.74  30-08-2023                 Alexander Ltd   \n",
      "49996              133.66  03-05-2023                 Knapp-Calhoun   \n",
      "49997              464.29  12-02-2023  Cantrell, Haynes and Ballard   \n",
      "49998              472.57  25-03-2023     Wilson, Jackson and Beard   \n",
      "49999              270.67  20-05-2023                     Combs LLC   \n",
      "\n",
      "          Category  \n",
      "0         Cosmetic  \n",
      "1           Travel  \n",
      "2         Clothing  \n",
      "3         Cosmetic  \n",
      "4      Electronics  \n",
      "...            ...  \n",
      "49995       Market  \n",
      "49996     Cosmetic  \n",
      "49997       Market  \n",
      "49998       Market  \n",
      "49999       Market  \n",
      "\n",
      "[50000 rows x 9 columns]\n",
      "Description of CSV Entries:\n",
      "         Customer ID  Transaction Amount\n",
      "count   50000.00000        50000.000000\n",
      "mean   500136.79696          442.119239\n",
      "std    288232.43164          631.669724\n",
      "min        29.00000            5.010000\n",
      "25%    251191.50000           79.007500\n",
      "50%    499520.50000          182.195000\n",
      "75%    749854.25000          470.515000\n",
      "max    999997.00000         2999.880000\n"
     ]
    }
   ],
   "source": [
    "df = pd.read_csv('credit_card_transaction_flow.csv')\n",
    "print(\"Raw CSV Data:\\n\",df)\n",
    "#print(\"\\n\\nData Frame Info:\\n\", df.info())\n",
    "print(\"Description of CSV Entries:\\n\", df.describe())\n",
    "#This stops the infinite loop from the 50k entries.\n",
    "df = df.head(8000)"
   ]
  },
  {
   "cell_type": "code",
   "execution_count": 3,
   "metadata": {},
   "outputs": [
    {
     "name": "stdout",
     "output_type": "stream",
     "text": [
      "['Cosmetic' 'Travel' 'Clothing' 'Electronics' 'Restaurant' 'Market']\n"
     ]
    }
   ],
   "source": [
    "#Separate rows by categories\n",
    "column_categories = df['Category']\n",
    "each_category = df['Category'].unique()\n",
    "print(each_category)"
   ]
  },
  {
   "cell_type": "code",
   "execution_count": 4,
   "metadata": {},
   "outputs": [],
   "source": [
    "#Formats the Date column so that it understands day first.\n",
    "#https://www.w3schools.com/python/pandas/pandas_cleaning_wrong_format.asp\n",
    "df['Date'] = pd.to_datetime(df['Date'], dayfirst = True)\n",
    "\n",
    "#Cleans the data: Removes entries with NULL values in Date; Category; Transaction Amount.\n",
    "df.dropna(subset=['Date'], inplace = True)\n",
    "df.dropna(subset=['Category'], inplace = True)\n",
    "df.dropna(subset=['Transaction Amount'], inplace = True)\n",
    "\n",
    "#Set parameters \n",
    "for x in df.index:\n",
    "  if df.loc[x, \"Transaction Amount\"] > 1500: # play around with this\n",
    "    df.drop(x, inplace = True)"
   ]
  },
  {
   "cell_type": "code",
   "execution_count": 5,
   "metadata": {},
   "outputs": [
    {
     "name": "stdout",
     "output_type": "stream",
     "text": [
      "\n",
      "Mean and Standard Deviation Per Month for Each Category\n",
      "\n",
      "            Transaction Amount            \n",
      "                          mean         std\n",
      "Category                                  \n",
      "Clothing            160.029164   80.821815\n",
      "Cosmetic            105.064502   54.188466\n",
      "Electronics         518.835565  274.776963\n",
      "Market              251.962239  142.634154\n",
      "Restaurant           54.019155   25.798297\n",
      "Travel              790.611812  406.270271\n"
     ]
    }
   ],
   "source": [
    "#Extracts Month from Date and stores it into month\n",
    "month = df['Month'] = df['Date'].dt.month\n",
    "\n",
    "#Shows Mean and Standard Deviation\n",
    "print(\"\\nMean and Standard Deviation Per Month for Each Category\\n\")\n",
    "info_DS = df.groupby('Category').agg({'Transaction Amount': ['mean', 'std']})\n",
    "print(info_DS)"
   ]
  },
  {
   "cell_type": "code",
   "execution_count": 6,
   "metadata": {},
   "outputs": [
    {
     "name": "stdout",
     "output_type": "stream",
     "text": [
      "\n",
      "Average Credit Card Charges for All Categories\n",
      "    Month  Transaction Amount\n",
      "0      1          265.811615\n",
      "1      2          284.377073\n",
      "2      3          271.697484\n",
      "3      4          265.216386\n",
      "4      5          264.904061\n",
      "5      6          258.268210\n",
      "6      7          260.741703\n",
      "7      8          271.045957\n",
      "8      9          258.849539\n",
      "9     10          262.911156 \n",
      "\n"
     ]
    },
    {
     "data": {
      "image/png": "[encoded data removed]",
      "text/plain": [
       "<Figure size 640x480 with 1 Axes>"
      ]
     },
     "metadata": {},
     "output_type": "display_data"
    }
   ],
   "source": [
    "total_avg_sales = df.groupby('Month')['Transaction Amount'].mean().reset_index()\n",
    "print(\"\\nAverage Credit Card Charges for All Categories\\n\",total_avg_sales, \"\\n\")\n",
    "plt.figure()\n",
    "plt.bar(total_avg_sales['Month'], total_avg_sales['Transaction Amount'])\n",
    "plt.xlabel('Month')\n",
    "plt.ylabel('Average Sales')\n",
    "plt.title('Average Credit Card Sales Per Month')\n",
    "plt.xticks(np.arange(1, 13), ['Jan', 'Feb', 'Mar', 'Apr', 'May', 'Jun', 'Jul', 'Aug', 'Sep', 'Oct', 'Nov', 'Dec'])\n",
    "plt.show()\n"
   ]
  },
  {
   "cell_type": "markdown",
   "metadata": {},
   "source": [
    "This bar graph shows the average credit card charges for each month in 2023 for the categories: \n",
    "['Cosmetic' 'Travel' 'Clothing' 'Electronics' 'Restaurant' 'Market']. This Bar Graph is consistent with the Mean and Standard Deviation Per Month for Each Category as shown above."
   ]
  },
  {
   "cell_type": "markdown",
   "metadata": {},
   "source": [
    "References\n",
    "\n",
    "Surana, R.(2023). Comprehensive Credit Card Transactions Dataset. kaggle.com. \n",
    "    https://www.kaggle.com/datasets/rajatsurana979/comprehensive-credit-card-transactions-dataset/data\n"
   ]
  },
  {
   "cell_type": "markdown",
   "metadata": {},
   "source": []
  }
 ],
 "metadata": {
  "kernelspec": {
   "display_name": "base",
   "language": "python",
   "name": "python3"
  },
  "language_info": {
   "codemirror_mode": {
    "name": "ipython",
    "version": 3
   },
   "file_extension": ".py",
   "mimetype": "text/x-python",
   "name": "python",
   "nbconvert_exporter": "python",
   "pygments_lexer": "ipython3",
   "version": "3.11.5"
  }
 },
 "nbformat": 4,
 "nbformat_minor": 2
}
